{
 "cells": [
  {
   "cell_type": "markdown",
   "metadata": {},
   "source": [
    "## Ablauf\n"
   ]
  },
  {
   "cell_type": "markdown",
   "metadata": {},
   "source": [
    "Notebook / Python"
   ]
  },
  {
   "cell_type": "markdown",
   "metadata": {},
   "source": [
    "Datenbank interaktion / API / GUI"
   ]
  },
  {
   "cell_type": "markdown",
   "metadata": {},
   "source": [
    "## Datenbank:\n",
    "- SQL Datenbank gleich wie in der Vorlesung (SQL Alchemy)\n",
    "- Verschiedene Kategorien von Witzen\n",
    "- Witz (Like/Kategorie/Kommentar?/....) \n",
    "- Witze selber erstellen\n",
    "- Funktion -> Witz in Datenbank erstellen\n"
   ]
  },
  {
   "cell_type": "markdown",
   "metadata": {},
   "source": [
    "## API:\n",
    "- Eine mit verschiedenen Kategorien für Witze \n",
    "- (https://jokeapi.dev)\n",
    "- Get und Submit (Funktion)"
   ]
  },
  {
   "cell_type": "markdown",
   "metadata": {},
   "source": [
    "## Gui:\n",
    "- Witz des Tages dirkt beim aufruf anzeigen\n",
    "- Button für Likes (Nur das Lokal speichern)\n",
    "- Button für Dislikes\n",
    "- Witz in der Mitte Likes Links / Dislikes rechts\n",
    "- Button um Witze selber einzuspeichern in DB\n",
    "- Witze der API Anzeigen über Knopf (rnd) \n",
    "- Browes nach Kategory (Dropdown?) \n"
   ]
  },
  {
   "cell_type": "markdown",
   "metadata": {},
   "source": [
    "## Noch mögliche Funktionen:\n",
    "- Anpassung welche Kategory beim Witz des Tages angezeigt wird über die Likes (erst ab min. an Likes davor rnd)"
   ]
  }
 ],
 "metadata": {
  "interpreter": {
   "hash": "369f2c481f4da34e4445cda3fffd2e751bd1c4d706f27375911949ba6bb62e1c"
  },
  "kernelspec": {
   "display_name": "Python 3.10.2 64-bit",
   "language": "python",
   "name": "python3"
  },
  "language_info": {
   "name": "python",
   "version": "3.10.2"
  },
  "orig_nbformat": 4
 },
 "nbformat": 4,
 "nbformat_minor": 2
}
