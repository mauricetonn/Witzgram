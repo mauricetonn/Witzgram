{
 "cells": [
  {
   "cell_type": "code",
   "execution_count": null,
   "metadata": {},
   "outputs": [],
   "source": [
    "# 1) identifizieren was habe ich für eine DB --> modul, treiber, funktionen\n",
    "# 2) treiber nutzen --> engine (rohr / pipeline zur DB)\n",
    "# 3) interaktion mit der db durchführen --> zeiger\n",
    "# 4) ggf. schemabeschreibung, Datenmodel\n",
    "# 5) meine Anweisungen mit der Db definieren und clustern"
   ]
  },
  {
   "cell_type": "code",
   "execution_count": 1,
   "metadata": {},
   "outputs": [],
   "source": [
    "import sqlite3"
   ]
  },
  {
   "cell_type": "code",
   "execution_count": 2,
   "metadata": {},
   "outputs": [],
   "source": [
    "# help(sqlite3)\n",
    "# 1 & 2 Schritt\n",
    "db_name = \"witzeBank.db\"\n",
    "my_db_connection = sqlite3.connect(db_name)"
   ]
  },
  {
   "cell_type": "code",
   "execution_count": 3,
   "metadata": {},
   "outputs": [],
   "source": [
    "# 3 - Zeiger\n",
    "my_db_cursor = my_db_connection.cursor()"
   ]
  },
  {
   "cell_type": "code",
   "execution_count": 4,
   "metadata": {},
   "outputs": [],
   "source": [
    "table_name = \"witz\"\n",
    "table_fields = \"w_kategory VARCHAR(30), w_title VARCHAR(50), w_text VARCHAR(255), w_like INTEGER, w_dislike INTEGER\"\n",
    "my_create_sql = f\"CREATE TABLE {table_name} ({table_fields})\""
   ]
  },
  {
   "cell_type": "code",
   "execution_count": 5,
   "metadata": {},
   "outputs": [
    {
     "data": {
      "text/plain": [
       "'CREATE TABLE witz (w_kategory VARCHAR(30), w_title VARCHAR(50), w_text VARCHAR(255), w_like INTEGER, w_dislike INTEGER)'"
      ]
     },
     "execution_count": 5,
     "metadata": {},
     "output_type": "execute_result"
    }
   ],
   "source": [
    "my_create_sql"
   ]
  },
  {
   "cell_type": "code",
   "execution_count": 6,
   "metadata": {},
   "outputs": [
    {
     "data": {
      "text/plain": [
       "<sqlite3.Cursor at 0x2199f2797c0>"
      ]
     },
     "execution_count": 6,
     "metadata": {},
     "output_type": "execute_result"
    }
   ],
   "source": [
    "my_db_cursor.execute(my_create_sql)"
   ]
  }
 ],
 "metadata": {
  "interpreter": {
   "hash": "369f2c481f4da34e4445cda3fffd2e751bd1c4d706f27375911949ba6bb62e1c"
  },
  "kernelspec": {
   "display_name": "Python 3.10.2 64-bit",
   "language": "python",
   "name": "python3"
  },
  "language_info": {
   "codemirror_mode": {
    "name": "ipython",
    "version": 3
   },
   "file_extension": ".py",
   "mimetype": "text/x-python",
   "name": "python",
   "nbconvert_exporter": "python",
   "pygments_lexer": "ipython3",
   "version": "3.10.2"
  },
  "orig_nbformat": 4
 },
 "nbformat": 4,
 "nbformat_minor": 2
}
